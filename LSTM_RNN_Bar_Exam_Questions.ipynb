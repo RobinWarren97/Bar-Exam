{
 "cells": [
  {
   "cell_type": "code",
   "execution_count": 1,
   "metadata": {},
   "outputs": [],
   "source": [
    "import tensorflow as tf\n",
    "from tensorflow.keras.layers import Dense, LSTM, Dropout, Bidirectional\n",
    "from tensorflow.keras.models import Model\n",
    "from tensorflow.keras.models import Sequential\n",
    "import tensorflow_hub as hub\n",
    "from tensorboard.plugins.hparams import api as hp\n",
    "import numpy as np\n",
    "import pandas as pd\n",
    "import json\n",
    "import random\n",
    "import matplotlib.pyplot as plt"
   ]
  },
  {
   "cell_type": "code",
   "execution_count": 2,
   "metadata": {},
   "outputs": [],
   "source": [
    "# Load Pretrained Word2Vec\n",
    "embed = hub.load(\"https://tfhub.dev/google/Wiki-words-250/2\")"
   ]
  },
  {
   "cell_type": "code",
   "execution_count": 3,
   "metadata": {},
   "outputs": [],
   "source": [
    "#Method to return the maximum length of elems in the dataframe.\n",
    "#This is used to create a fixed length input for the first RNN cell.\n",
    "def get_max_length(df):\n",
    "    max_length = 0\n",
    "    for row in df['feature']:\n",
    "        if len(row.split(\" \")) > max_length:\n",
    "            max_length = len(row.split(\" \"))\n",
    "    return max_length\n",
    "\n",
    "#Return word2vec value for each word in sentence.\n",
    "#add encoded words to numpy array for the first RNN cell.\n",
    "def get_word2vec_enc(features):\n",
    "    encoded_features = []\n",
    "    for feature in features:\n",
    "        tokens = feature.split(\" \")\n",
    "        word2vec_embedding = embed(tokens)\n",
    "        encoded_features.append(word2vec_embedding)\n",
    "    return encoded_features\n",
    "\n",
    "\n",
    "#adding zero padding to all elems such that, they are all the same length\n",
    "def get_padded_encoded_features(encoded_features):\n",
    "    #Longest feature (longest question is hardcoded (from get_max_length()))\n",
    "    max_length = 684\n",
    "    padded_features_encoding = []\n",
    "    for enc_feature in encoded_features:\n",
    "        zero_padding_cnt = max_length - enc_feature.shape[0]\n",
    "        pad = np.zeros((1, 250))\n",
    "        for i in range(zero_padding_cnt):\n",
    "            enc_feature = np.concatenate((pad, enc_feature), axis=0)\n",
    "        padded_features_encoding.append(enc_feature)\n",
    "    return padded_features_encoding\n",
    "\n",
    "#return one hot encoding for isCorrect (Y value for RNN).\n",
    "def answer_encode(answer):\n",
    "    if answer:\n",
    "        return [1,0]\n",
    "    else:\n",
    "        return [0,1]\n",
    "    \n",
    "\n",
    "#encode strings to numeric value\n",
    "def preprocess(df):\n",
    "    # encode words into word2vec\n",
    "    features = df['feature'].tolist()\n",
    "    \n",
    "    encoded_features = get_word2vec_enc(features)\n",
    "    padded_encoded_features = get_padded_encoded_features(encoded_features)\n",
    "    # encoded answers\n",
    "    answers = df['correct'].tolist()\n",
    "    encoded_answer = [answer_encode(answer) for answer in answers]\n",
    "    X = np.array(padded_encoded_features)\n",
    "    Y = np.array(encoded_answer)\n",
    "    return X, Y"
   ]
  },
  {
   "cell_type": "code",
   "execution_count": 4,
   "metadata": {},
   "outputs": [
    {
     "name": "stdout",
     "output_type": "stream",
     "text": [
      "Size of data: \n",
      "4696\n",
      "{'feature': ' In a telephone call on March 1, Adams, an  unemployed, retired person, said to Dawes, “I  will sell my automobile for $3,000 cash. I will  hold this offer open through March 14.” On  March 12, Adams called Dawes and told her  that he had sold the automobile to Clark. Adams  in fact had not sold the automobile to anyone.  On March 14, Dawes learned that Adams still  owned the automobile, and on that date called  Adams and said, “I’m coming over to your place  with $3,000.” Adams replied, “Don’t bother. I  won’t deliver the automobile to you under any  circumstances.” Dawes protested, but made no  further attempt to pay for or take delivery of the  automobile. In an action by Dawes against Adams for breach  of contract, Dawes probably will (D) not succeed, because on March 12, Adams  had told Dawes that he had sold the  automobile to Clark. ', 'correct': True}\n"
     ]
    }
   ],
   "source": [
    "#Read in features from JSON file\n",
    "with open('all_plus_500.json', 'r', encoding=\"utf-8\") as myFileAll:\n",
    "     dataAll = myFileAll.read()\n",
    "\n",
    "#Load all into objects\n",
    "objAll = json.loads(dataAll)\n",
    "print(\"Size of data: \")\n",
    "print(len(objAll))\n",
    "\n",
    "##Shuffle our data so our model \"doesn't learn patterns\"\n",
    "random.shuffle(objAll)\n",
    "\n",
    "#Split data into train/test (80/20) \n",
    "print(objAll[1])\n",
    "train_data = objAll[:3757]\n",
    "test_data = objAll[3757:]"
   ]
  },
  {
   "cell_type": "code",
   "execution_count": 5,
   "metadata": {},
   "outputs": [
    {
     "name": "stdout",
     "output_type": "stream",
     "text": [
      "<class 'list'>\n",
      "3757\n",
      "939\n"
     ]
    }
   ],
   "source": [
    "print(type(objAll))\n",
    "print(len(train_data))\n",
    "print(len(test_data))\n"
   ]
  },
  {
   "cell_type": "code",
   "execution_count": 6,
   "metadata": {},
   "outputs": [],
   "source": [
    "#Preprocessing for Train/Test data frames for model\n",
    "df = pd.DataFrame(train_data)\n",
    "train_X, train_Y = preprocess(df)\n",
    "test_df = pd.DataFrame(test_data)\n",
    "test_X, test_Y = preprocess(test_df)"
   ]
  },
  {
   "cell_type": "code",
   "execution_count": null,
   "metadata": {},
   "outputs": [],
   "source": []
  },
  {
   "cell_type": "code",
   "execution_count": null,
   "metadata": {},
   "outputs": [],
   "source": []
  },
  {
   "cell_type": "code",
   "execution_count": 7,
   "metadata": {},
   "outputs": [],
   "source": [
    "#Building the model two layers of Bi-LSTMs\n",
    "model = Sequential()\n",
    "model.add(Bidirectional(LSTM(64,  return_sequences=True)))\n",
    "model.add(Dropout(0.1))\n",
    "model.add(Bidirectional(LSTM(32)))\n",
    "model.add(Dense(2, activation='softmax'))"
   ]
  },
  {
   "cell_type": "code",
   "execution_count": 8,
   "metadata": {},
   "outputs": [],
   "source": [
    "model.compile(loss='categorical_crossentropy',\n",
    "              optimizer='adam',\n",
    "              metrics=['accuracy'])"
   ]
  },
  {
   "cell_type": "code",
   "execution_count": 9,
   "metadata": {},
   "outputs": [
    {
     "name": "stdout",
     "output_type": "stream",
     "text": [
      "Epoch 1/3\n",
      "118/118 [==============================] - 82s 695ms/step - loss: 0.5695 - accuracy: 0.7471\n",
      "Epoch 2/3\n",
      "118/118 [==============================] - 84s 712ms/step - loss: 0.5664 - accuracy: 0.7474\n",
      "Epoch 3/3\n",
      "118/118 [==============================] - 84s 708ms/step - loss: 0.5647 - accuracy: 0.7474\n"
     ]
    }
   ],
   "source": [
    "#Train on data\n",
    "history = model.fit(train_X, train_Y,epochs=3, verbose=1)"
   ]
  },
  {
   "cell_type": "code",
   "execution_count": 10,
   "metadata": {},
   "outputs": [
    {
     "name": "stdout",
     "output_type": "stream",
     "text": [
      "Model: \"sequential\"\n",
      "_________________________________________________________________\n",
      "Layer (type)                 Output Shape              Param #   \n",
      "=================================================================\n",
      "bidirectional (Bidirectional (None, 684, 128)          161280    \n",
      "_________________________________________________________________\n",
      "dropout (Dropout)            (None, 684, 128)          0         \n",
      "_________________________________________________________________\n",
      "bidirectional_1 (Bidirection (None, 64)                41216     \n",
      "_________________________________________________________________\n",
      "dense (Dense)                (None, 2)                 130       \n",
      "=================================================================\n",
      "Total params: 202,626\n",
      "Trainable params: 202,626\n",
      "Non-trainable params: 0\n",
      "_________________________________________________________________\n"
     ]
    }
   ],
   "source": [
    "model.summary()"
   ]
  },
  {
   "cell_type": "code",
   "execution_count": null,
   "metadata": {},
   "outputs": [],
   "source": []
  },
  {
   "cell_type": "code",
   "execution_count": 11,
   "metadata": {},
   "outputs": [
    {
     "name": "stdout",
     "output_type": "stream",
     "text": [
      "30/30 [==============================] - 6s 213ms/step - loss: 0.5216 - accuracy: 0.7977\n",
      "Test score: 0.5215725898742676\n",
      "Test accuracy: 0.7976570725440979\n"
     ]
    }
   ],
   "source": [
    "#Evaluate on test_data\n",
    "random.shuffle(test_X)\n",
    "random.shuffle(test_Y)\n",
    "score, acc = model.evaluate(test_X, test_Y, verbose=1)\n",
    "print('Test score:', score)\n",
    "print('Test accuracy:', acc)"
   ]
  },
  {
   "cell_type": "code",
   "execution_count": 12,
   "metadata": {},
   "outputs": [
    {
     "data": {
      "text/plain": [
       "Text(0.5, 1.0, 'Accuracy Curves - RNN')"
      ]
     },
     "execution_count": 12,
     "metadata": {},
     "output_type": "execute_result"
    },
    {
     "data": {
      "image/png": "[encoded data removed]",
      "text/plain": [
       "<Figure size 720x360 with 1 Axes>"
      ]
     },
     "metadata": {
      "needs_background": "light"
     },
     "output_type": "display_data"
    }
   ],
   "source": [
    "plt.figure(figsize=[10,5])\n",
    "plt.plot(history.history['accuracy'], label='accuracy')\n",
    "#plt.plot(history.history['val_accuracy'], label = 'val_accuracy')\n",
    "plt.xlabel('Epoch')\n",
    "plt.ylabel('Accuracy')\n",
    "plt.legend(loc='lower right')\n",
    "plt.title('Accuracy Curves - RNN')"
   ]
  },
  {
   "cell_type": "code",
   "execution_count": null,
   "metadata": {},
   "outputs": [],
   "source": []
  },
  {
   "cell_type": "code",
   "execution_count": null,
   "metadata": {},
   "outputs": [],
   "source": []
  },
  {
   "cell_type": "code",
   "execution_count": 13,
   "metadata": {},
   "outputs": [],
   "source": [
    "model1 = Sequential()\n",
    "model1.add(LSTM(128,  return_sequences=True))\n",
    "model1.add(Dropout(0.1))\n",
    "model1.add(LSTM(32))\n",
    "model1.add(Dense(2, activation='softmax'))"
   ]
  },
  {
   "cell_type": "code",
   "execution_count": 14,
   "metadata": {},
   "outputs": [],
   "source": [
    "model1.compile(loss='categorical_crossentropy',\n",
    "              optimizer='adam',\n",
    "              metrics=['accuracy'])"
   ]
  },
  {
   "cell_type": "code",
   "execution_count": 15,
   "metadata": {},
   "outputs": [
    {
     "name": "stdout",
     "output_type": "stream",
     "text": [
      "Epoch 1/3\n",
      "118/118 [==============================] - 88s 745ms/step - loss: 0.5707 - accuracy: 0.7455\n",
      "Epoch 2/3\n",
      "118/118 [==============================] - 91s 772ms/step - loss: 0.5668 - accuracy: 0.7474\n",
      "Epoch 3/3\n",
      "118/118 [==============================] - 91s 772ms/step - loss: 0.5668 - accuracy: 0.7474\n"
     ]
    }
   ],
   "source": [
    "history1 = model1.fit(train_X, train_Y,epochs=3, verbose=1)"
   ]
  },
  {
   "cell_type": "code",
   "execution_count": 16,
   "metadata": {},
   "outputs": [
    {
     "name": "stdout",
     "output_type": "stream",
     "text": [
      "Epoch 1/5\n",
      "118/118 [==============================] - 88s 744ms/step - loss: 0.5718 - accuracy: 0.7458\n",
      "Epoch 2/5\n",
      "118/118 [==============================] - 92s 780ms/step - loss: 0.5665 - accuracy: 0.7474\n",
      "Epoch 3/5\n",
      "118/118 [==============================] - 93s 786ms/step - loss: 0.5663 - accuracy: 0.7474\n",
      "Epoch 4/5\n",
      "118/118 [==============================] - 92s 776ms/step - loss: 0.5651 - accuracy: 0.7474\n",
      "Epoch 5/5\n",
      "118/118 [==============================] - 92s 776ms/step - loss: 0.5628 - accuracy: 0.7474\n"
     ]
    }
   ],
   "source": [
    "model2 = Sequential()\n",
    "model2.add(LSTM(128,  return_sequences=True))\n",
    "model2.add(Dropout(0.15))\n",
    "model2.add(LSTM(32))\n",
    "model2.add(Dense(2, activation='softmax'))\n",
    "\n",
    "model2.compile(loss='categorical_crossentropy',\n",
    "              optimizer='adam',\n",
    "              metrics=['accuracy'])\n",
    "\n",
    "history2 = model2.fit(train_X, train_Y,epochs=5, verbose=1)"
   ]
  }
 ],
 "metadata": {
  "kernelspec": {
   "display_name": "Python 3",
   "language": "python",
   "name": "python3"
  },
  "language_info": {
   "codemirror_mode": {
    "name": "ipython",
    "version": 3
   },
   "file_extension": ".py",
   "mimetype": "text/x-python",
   "name": "python",
   "nbconvert_exporter": "python",
   "pygments_lexer": "ipython3",
   "version": "3.8.3"
  }
 },
 "nbformat": 4,
 "nbformat_minor": 4
}
